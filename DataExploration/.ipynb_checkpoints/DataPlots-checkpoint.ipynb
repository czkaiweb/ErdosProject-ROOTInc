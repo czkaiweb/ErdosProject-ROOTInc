{
 "cells": [
  {
   "cell_type": "markdown",
   "id": "e9baf27d-46d6-4f5e-8e95-d486e59d4592",
   "metadata": {},
   "source": [
    "# Root Insurance"
   ]
  },
  {
   "cell_type": "code",
   "execution_count": 1,
   "id": "18e8b97d-21cc-427c-ab90-7ba3042418d2",
   "metadata": {},
   "outputs": [],
   "source": [
    "import pandas as pd\n",
    "import numpy as np\n",
    "import warnings\n",
    "from pandas.plotting import scatter_matrix\n",
    "from sklearn.model_selection import train_test_split\n",
    "import matplotlib.pyplot as plt"
   ]
  },
  {
   "cell_type": "code",
   "execution_count": 2,
   "id": "9ba0d165-8d2a-4cea-bb23-3d2094329777",
   "metadata": {},
   "outputs": [],
   "source": [
    "root_ins_df = pd.read_csv('Root_Insurance_data.csv')"
   ]
  },
  {
   "cell_type": "code",
   "execution_count": 3,
   "id": "bae23e2b-9ac1-4f47-b438-726344d3d9c4",
   "metadata": {},
   "outputs": [
    {
     "data": {
      "text/html": [
       "<div>\n",
       "<style scoped>\n",
       "    .dataframe tbody tr th:only-of-type {\n",
       "        vertical-align: middle;\n",
       "    }\n",
       "\n",
       "    .dataframe tbody tr th {\n",
       "        vertical-align: top;\n",
       "    }\n",
       "\n",
       "    .dataframe thead th {\n",
       "        text-align: right;\n",
       "    }\n",
       "</style>\n",
       "<table border=\"1\" class=\"dataframe\">\n",
       "  <thead>\n",
       "    <tr style=\"text-align: right;\">\n",
       "      <th></th>\n",
       "      <th>Currently Insured</th>\n",
       "      <th>Number of Vehicles</th>\n",
       "      <th>Number of Drivers</th>\n",
       "      <th>Marital Status</th>\n",
       "      <th>bid</th>\n",
       "      <th>rank</th>\n",
       "      <th>click</th>\n",
       "      <th>policies_sold</th>\n",
       "    </tr>\n",
       "  </thead>\n",
       "  <tbody>\n",
       "    <tr>\n",
       "      <th>0</th>\n",
       "      <td>unknown</td>\n",
       "      <td>2</td>\n",
       "      <td>1</td>\n",
       "      <td>M</td>\n",
       "      <td>10.0</td>\n",
       "      <td>2</td>\n",
       "      <td>False</td>\n",
       "      <td>0</td>\n",
       "    </tr>\n",
       "    <tr>\n",
       "      <th>1</th>\n",
       "      <td>Y</td>\n",
       "      <td>3</td>\n",
       "      <td>1</td>\n",
       "      <td>M</td>\n",
       "      <td>10.0</td>\n",
       "      <td>5</td>\n",
       "      <td>False</td>\n",
       "      <td>0</td>\n",
       "    </tr>\n",
       "    <tr>\n",
       "      <th>2</th>\n",
       "      <td>Y</td>\n",
       "      <td>3</td>\n",
       "      <td>2</td>\n",
       "      <td>M</td>\n",
       "      <td>10.0</td>\n",
       "      <td>5</td>\n",
       "      <td>False</td>\n",
       "      <td>0</td>\n",
       "    </tr>\n",
       "    <tr>\n",
       "      <th>3</th>\n",
       "      <td>N</td>\n",
       "      <td>3</td>\n",
       "      <td>2</td>\n",
       "      <td>S</td>\n",
       "      <td>10.0</td>\n",
       "      <td>4</td>\n",
       "      <td>False</td>\n",
       "      <td>0</td>\n",
       "    </tr>\n",
       "    <tr>\n",
       "      <th>4</th>\n",
       "      <td>unknown</td>\n",
       "      <td>2</td>\n",
       "      <td>2</td>\n",
       "      <td>S</td>\n",
       "      <td>10.0</td>\n",
       "      <td>2</td>\n",
       "      <td>False</td>\n",
       "      <td>0</td>\n",
       "    </tr>\n",
       "  </tbody>\n",
       "</table>\n",
       "</div>"
      ],
      "text/plain": [
       "  Currently Insured  Number of Vehicles  Number of Drivers Marital Status  \\\n",
       "0           unknown                   2                  1              M   \n",
       "1                 Y                   3                  1              M   \n",
       "2                 Y                   3                  2              M   \n",
       "3                 N                   3                  2              S   \n",
       "4           unknown                   2                  2              S   \n",
       "\n",
       "    bid  rank  click  policies_sold  \n",
       "0  10.0     2  False              0  \n",
       "1  10.0     5  False              0  \n",
       "2  10.0     5  False              0  \n",
       "3  10.0     4  False              0  \n",
       "4  10.0     2  False              0  "
      ]
     },
     "execution_count": 3,
     "metadata": {},
     "output_type": "execute_result"
    }
   ],
   "source": [
    "root_ins_df.head()"
   ]
  },
  {
   "cell_type": "code",
   "execution_count": 4,
   "id": "49ad3c34-64a9-4093-be47-79b91b5bac5a",
   "metadata": {},
   "outputs": [],
   "source": [
    "train_data, test_data = train_test_split(root_ins_df,\n",
    "                                         stratify=root_ins_df['policies_sold'],\n",
    "                                         test_size=0.33,\n",
    "                                        random_state=123)"
   ]
  },
  {
   "cell_type": "code",
   "execution_count": 5,
   "id": "49074a5d-6cde-4138-9df5-bddb99ad67cb",
   "metadata": {},
   "outputs": [],
   "source": [
    "# scatter matrix not very useful here\n",
    "# scatter_matrix(train_data.loc[:,train_data.columns != 'click'],figsize=(10,10))\n",
    "\n",
    "# dividing the training data into succesful and unsuccesful bids for plotting\n",
    "# 'click_int' is simply the 'click' column as an int\n",
    "succesful_bids_df = train_data[train_data['policies_sold'] == 1].copy()\n",
    "unsuccesful_bids_df = train_data[train_data['policies_sold'] == 0].copy()\n",
    "unsuccesful_bids_df['click_int'] = 0\n",
    "unsuccesful_bids_df.loc[unsuccesful_bids_df['click'] == True,'click_int'] = 1\n",
    "unsuccesful_bids_df.loc[unsuccesful_bids_df['click'] == True,'click_int'] = 1\n",
    "succesful_bids_df['click_int'] = 0\n",
    "succesful_bids_df.loc[succesful_bids_df['click'] == True,'click_int'] = 1\n",
    "succesful_bids_df.loc[succesful_bids_df['click'] == True,'click_int'] = 1"
   ]
  },
  {
   "cell_type": "code",
   "execution_count": 6,
   "id": "33cfbaff-3a93-428e-bfc2-39d8b23f141d",
   "metadata": {},
   "outputs": [
    {
     "data": {
      "text/plain": [
       "<matplotlib.legend.Legend at 0x7efe21061af0>"
      ]
     },
     "execution_count": 6,
     "metadata": {},
     "output_type": "execute_result"
    },
    {
     "data": {
      "image/png": "[encoded data removed]",
      "text/plain": [
       "<Figure size 576x288 with 1 Axes>"
      ]
     },
     "metadata": {
      "needs_background": "light"
     },
     "output_type": "display_data"
    }
   ],
   "source": [
    "plt.figure(figsize=(8,4))\n",
    "unsuccesful_bids_df['rank'].hist(label='unsuccessful bids')\n",
    "succesful_bids_df['rank'].hist(label='successful bids')\n",
    "plt.xlabel('rank')\n",
    "plt.ylabel('count')\n",
    "plt.title('Histogram showing the distributions of \\n successful (orange) and unsuccessful (blue) bids vs rank')\n",
    "plt.legend()"
   ]
  },
  {
   "cell_type": "markdown",
   "id": "685ebbc5-d7e0-4a37-bc6d-f9d8115aa2f4",
   "metadata": {},
   "source": [
    "As expected, a larger proportion of the higher rank bids are succesful."
   ]
  },
  {
   "cell_type": "code",
   "execution_count": 7,
   "id": "a8ce08ec-ca74-474f-a0e2-292bda2f2ca5",
   "metadata": {},
   "outputs": [
    {
     "name": "stdout",
     "output_type": "stream",
     "text": [
      "   clicked  not_clicked\n",
      "1      317          496\n",
      "2      175          776\n",
      "3      149         1406\n",
      "4       73         1259\n",
      "5       17         1507\n"
     ]
    }
   ],
   "source": [
    "# Click distribution by rank\n",
    "click_dist_by_rank = pd.DataFrame(index=[1,2,3,4,5])\n",
    "click_dist_by_rank['clicked'] = (unsuccesful_bids_df[unsuccesful_bids_df['click_int'] == 1][['rank','click_int']].groupby(by='rank').count())\n",
    "click_dist_by_rank['not_clicked'] = (unsuccesful_bids_df[unsuccesful_bids_df['click_int'] == 0][['rank','click_int']].groupby(by='rank').count())\n",
    "print(click_dist_by_rank)"
   ]
  },
  {
   "cell_type": "code",
   "execution_count": 8,
   "id": "df7406a8-9ed4-4bd4-9b61-a855285d6b60",
   "metadata": {},
   "outputs": [
    {
     "data": {
      "text/plain": [
       "<matplotlib.legend.Legend at 0x7efe1ef3d8e0>"
      ]
     },
     "execution_count": 8,
     "metadata": {},
     "output_type": "execute_result"
    },
    {
     "data": {
      "image/png": "[encoded data removed]",
      "text/plain": [
       "<Figure size 432x288 with 1 Axes>"
      ]
     },
     "metadata": {
      "needs_background": "light"
     },
     "output_type": "display_data"
    }
   ],
   "source": [
    "unsuccesful_bids_df['Currently Insured'].hist(label='unsuccesful bids')\n",
    "succesful_bids_df['Currently Insured'].hist(label='succesful bids')\n",
    "plt.title('Distribution of success of bid vs insurance status')\n",
    "plt.xlabel('Currently Insured')\n",
    "plt.ylabel('count')\n",
    "plt.legend()"
   ]
  },
  {
   "cell_type": "code",
   "execution_count": 9,
   "id": "38287230-4601-4d6f-9f0b-3579f563e407",
   "metadata": {},
   "outputs": [
    {
     "data": {
      "text/plain": [
       "<matplotlib.legend.Legend at 0x7efe1efacd60>"
      ]
     },
     "execution_count": 9,
     "metadata": {},
     "output_type": "execute_result"
    },
    {
     "data": {
      "image/png": "[encoded data removed]",
      "text/plain": [
       "<Figure size 432x288 with 1 Axes>"
      ]
     },
     "metadata": {
      "needs_background": "light"
     },
     "output_type": "display_data"
    }
   ],
   "source": [
    "unsuccesful_bids_df['Number of Vehicles'].hist(label='unsuccesful bids')\n",
    "succesful_bids_df['Number of Vehicles'].hist(label='succesful bids')\n",
    "plt.title('Distribution of success of bid vs Number of Vehicles')\n",
    "plt.xlabel('Number of Vehicles')\n",
    "plt.ylabel('count')\n",
    "plt.legend()"
   ]
  },
  {
   "cell_type": "code",
   "execution_count": 10,
   "id": "e3c3e8c6-cdeb-475c-9f03-3e7549b2b042",
   "metadata": {},
   "outputs": [
    {
     "data": {
      "text/plain": [
       "<matplotlib.legend.Legend at 0x7efe1edd6040>"
      ]
     },
     "execution_count": 10,
     "metadata": {},
     "output_type": "execute_result"
    },
    {
     "data": {
      "image/png": "[encoded data removed]",
      "text/plain": [
       "<Figure size 432x288 with 1 Axes>"
      ]
     },
     "metadata": {
      "needs_background": "light"
     },
     "output_type": "display_data"
    }
   ],
   "source": [
    "unsuccesful_bids_df['Number of Drivers'].hist(label='unsuccesful bids')\n",
    "succesful_bids_df['Number of Drivers'].hist(label='succesful bids')\n",
    "plt.title('Distribution of success of bid vs Number of Drivers')\n",
    "plt.xlabel('Number of Drivers')\n",
    "plt.ylabel('count')\n",
    "plt.legend()"
   ]
  },
  {
   "cell_type": "code",
   "execution_count": 11,
   "id": "9d1c8a37-bc97-4b50-bee6-f11b87fa04f1",
   "metadata": {},
   "outputs": [
    {
     "data": {
      "text/plain": [
       "<matplotlib.legend.Legend at 0x7efe1ed8d2e0>"
      ]
     },
     "execution_count": 11,
     "metadata": {},
     "output_type": "execute_result"
    },
    {
     "data": {
      "image/png": "[encoded data removed]",
      "text/plain": [
       "<Figure size 432x288 with 1 Axes>"
      ]
     },
     "metadata": {
      "needs_background": "light"
     },
     "output_type": "display_data"
    }
   ],
   "source": [
    "unsuccesful_bids_df['Marital Status'].hist(label='unsuccesful bids')\n",
    "succesful_bids_df['Marital Status'].hist(label='succesful bids')\n",
    "plt.title('Distribution of success of bid vs Marital Status')\n",
    "plt.xlabel('Marital Status')\n",
    "plt.ylabel('count')\n",
    "plt.legend()"
   ]
  },
  {
   "cell_type": "markdown",
   "id": "d484752b-2bb6-45a7-a07b-434126ab1fba",
   "metadata": {},
   "source": [
    "We now want to extract all the different combinations of the features\n",
    "1. Currently Insured\n",
    "2. Number of Vehicles\n",
    "3. Number of Drivers\n",
    "4. Maritial Status\n",
    "present in our training dataset and want to group our data by that."
   ]
  },
  {
   "cell_type": "code",
   "execution_count": 12,
   "id": "2dd7b267-108e-4a2d-ab63-64ce702f057d",
   "metadata": {},
   "outputs": [],
   "source": [
    "set_of_combinations = set()\n",
    "for i in train_data.values:\n",
    "    set_of_combinations.add(tuple(i[:4]))"
   ]
  },
  {
   "cell_type": "markdown",
   "id": "8ca3fd1c-b175-4f3a-93d7-f01991ae7e17",
   "metadata": {},
   "source": [
    "So we have 35 unique types. Now we will enumerate these types by converting this set to a list and then following that, we will add a column named 'feature_group' to our dataframe indicating which of these groups the row belongs to."
   ]
  },
  {
   "cell_type": "code",
   "execution_count": 13,
   "id": "0fa76341-85c0-4877-8328-abfa2b39860c",
   "metadata": {},
   "outputs": [
    {
     "name": "stdout",
     "output_type": "stream",
     "text": [
      "0: ('N', 1, 2, 'M')\n",
      "1: ('Y', 3, 2, 'M')\n",
      "2: ('Y', 1, 2, 'S')\n",
      "3: ('unknown', 1, 2, 'S')\n",
      "4: ('Y', 3, 1, 'S')\n",
      "5: ('unknown', 3, 2, 'M')\n",
      "6: ('N', 2, 1, 'S')\n",
      "7: ('Y', 2, 1, 'S')\n",
      "8: ('unknown', 2, 2, 'S')\n",
      "9: ('N', 3, 2, 'M')\n",
      "10: ('N', 1, 1, 'S')\n",
      "11: ('unknown', 3, 1, 'S')\n",
      "12: ('N', 3, 1, 'S')\n",
      "13: ('Y', 3, 1, 'M')\n",
      "14: ('Y', 1, 2, 'M')\n",
      "15: ('N', 2, 1, 'M')\n",
      "16: ('Y', 1, 1, 'S')\n",
      "17: ('unknown', 1, 2, 'M')\n",
      "18: ('Y', 2, 1, 'M')\n",
      "19: ('N', 1, 1, 'M')\n",
      "20: ('unknown', 2, 2, 'M')\n",
      "21: ('unknown', 1, 1, 'S')\n",
      "22: ('unknown', 3, 1, 'M')\n",
      "23: ('N', 3, 1, 'M')\n",
      "24: ('N', 2, 2, 'S')\n",
      "25: ('Y', 2, 2, 'S')\n",
      "26: ('N', 1, 2, 'S')\n",
      "27: ('unknown', 2, 1, 'S')\n",
      "28: ('Y', 1, 1, 'M')\n",
      "29: ('Y', 3, 2, 'S')\n",
      "30: ('N', 3, 2, 'S')\n",
      "31: ('unknown', 1, 1, 'M')\n",
      "32: ('N', 2, 2, 'M')\n",
      "33: ('unknown', 2, 1, 'M')\n",
      "34: ('Y', 2, 2, 'M')\n"
     ]
    }
   ],
   "source": [
    "combinations_list = list(set_of_combinations)\n",
    "_ = [print(f\"{idx}: {comb}\") for idx,comb in enumerate(combinations_list)]"
   ]
  },
  {
   "cell_type": "code",
   "execution_count": 20,
   "id": "ed08be52-3b81-4b5d-871b-3f5a029e7c6e",
   "metadata": {},
   "outputs": [],
   "source": [
    "train_data = train_data.copy()\n",
    "train_data['feature_group'] = -1\n",
    "\n",
    "for i in range(len(combinations_list)):\n",
    "    train_data.loc[(train_data['Currently Insured'] == combinations_list[i][0]) &\n",
    "               (train_data['Number of Vehicles'] == combinations_list[i][1]) &\n",
    "               (train_data['Number of Drivers'] == combinations_list[i][2]) &\n",
    "               (train_data['Marital Status'] == combinations_list[i][3]),'feature_group'] = i"
   ]
  },
  {
   "cell_type": "markdown",
   "id": "35ed5425-5715-4327-bc70-8fd9841b5644",
   "metadata": {},
   "source": [
    "And that seems to have worked as we expected."
   ]
  },
  {
   "cell_type": "code",
   "execution_count": 21,
   "id": "253e324d-515d-41f9-bc72-dac2e4fcbe70",
   "metadata": {},
   "outputs": [
    {
     "data": {
      "text/html": [
       "<div>\n",
       "<style scoped>\n",
       "    .dataframe tbody tr th:only-of-type {\n",
       "        vertical-align: middle;\n",
       "    }\n",
       "\n",
       "    .dataframe tbody tr th {\n",
       "        vertical-align: top;\n",
       "    }\n",
       "\n",
       "    .dataframe thead th {\n",
       "        text-align: right;\n",
       "    }\n",
       "</style>\n",
       "<table border=\"1\" class=\"dataframe\">\n",
       "  <thead>\n",
       "    <tr style=\"text-align: right;\">\n",
       "      <th></th>\n",
       "      <th>Currently Insured</th>\n",
       "      <th>Number of Vehicles</th>\n",
       "      <th>Number of Drivers</th>\n",
       "      <th>Marital Status</th>\n",
       "      <th>bid</th>\n",
       "      <th>rank</th>\n",
       "      <th>click</th>\n",
       "      <th>policies_sold</th>\n",
       "      <th>feature_group</th>\n",
       "    </tr>\n",
       "  </thead>\n",
       "  <tbody>\n",
       "    <tr>\n",
       "      <th>1858</th>\n",
       "      <td>unknown</td>\n",
       "      <td>3</td>\n",
       "      <td>1</td>\n",
       "      <td>S</td>\n",
       "      <td>10.0</td>\n",
       "      <td>3</td>\n",
       "      <td>False</td>\n",
       "      <td>0</td>\n",
       "      <td>11</td>\n",
       "    </tr>\n",
       "    <tr>\n",
       "      <th>5061</th>\n",
       "      <td>unknown</td>\n",
       "      <td>1</td>\n",
       "      <td>1</td>\n",
       "      <td>M</td>\n",
       "      <td>10.0</td>\n",
       "      <td>2</td>\n",
       "      <td>False</td>\n",
       "      <td>0</td>\n",
       "      <td>31</td>\n",
       "    </tr>\n",
       "    <tr>\n",
       "      <th>8359</th>\n",
       "      <td>Y</td>\n",
       "      <td>1</td>\n",
       "      <td>2</td>\n",
       "      <td>M</td>\n",
       "      <td>10.0</td>\n",
       "      <td>4</td>\n",
       "      <td>False</td>\n",
       "      <td>0</td>\n",
       "      <td>14</td>\n",
       "    </tr>\n",
       "    <tr>\n",
       "      <th>6563</th>\n",
       "      <td>N</td>\n",
       "      <td>1</td>\n",
       "      <td>2</td>\n",
       "      <td>M</td>\n",
       "      <td>10.0</td>\n",
       "      <td>3</td>\n",
       "      <td>False</td>\n",
       "      <td>0</td>\n",
       "      <td>0</td>\n",
       "    </tr>\n",
       "    <tr>\n",
       "      <th>8888</th>\n",
       "      <td>N</td>\n",
       "      <td>2</td>\n",
       "      <td>2</td>\n",
       "      <td>S</td>\n",
       "      <td>10.0</td>\n",
       "      <td>5</td>\n",
       "      <td>False</td>\n",
       "      <td>0</td>\n",
       "      <td>24</td>\n",
       "    </tr>\n",
       "  </tbody>\n",
       "</table>\n",
       "</div>"
      ],
      "text/plain": [
       "     Currently Insured  Number of Vehicles  Number of Drivers Marital Status  \\\n",
       "1858           unknown                   3                  1              S   \n",
       "5061           unknown                   1                  1              M   \n",
       "8359                 Y                   1                  2              M   \n",
       "6563                 N                   1                  2              M   \n",
       "8888                 N                   2                  2              S   \n",
       "\n",
       "       bid  rank  click  policies_sold  feature_group  \n",
       "1858  10.0     3  False              0             11  \n",
       "5061  10.0     2  False              0             31  \n",
       "8359  10.0     4  False              0             14  \n",
       "6563  10.0     3  False              0              0  \n",
       "8888  10.0     5  False              0             24  "
      ]
     },
     "execution_count": 21,
     "metadata": {},
     "output_type": "execute_result"
    }
   ],
   "source": [
    "train_data.head()"
   ]
  },
  {
   "cell_type": "code",
   "execution_count": null,
   "id": "93e4f7f4-3e5e-4826-be49-a35e306198c2",
   "metadata": {},
   "outputs": [],
   "source": []
  },
  {
   "cell_type": "code",
   "execution_count": null,
   "id": "1e72137f-e8fd-4946-914b-b416db75a39a",
   "metadata": {},
   "outputs": [],
   "source": []
  }
 ],
 "metadata": {
  "kernelspec": {
   "display_name": "Python 3",
   "language": "python",
   "name": "python3"
  },
  "language_info": {
   "codemirror_mode": {
    "name": "ipython",
    "version": 3
   },
   "file_extension": ".py",
   "mimetype": "text/x-python",
   "name": "python",
   "nbconvert_exporter": "python",
   "pygments_lexer": "ipython3",
   "version": "3.9.4"
  }
 },
 "nbformat": 4,
 "nbformat_minor": 5
}
