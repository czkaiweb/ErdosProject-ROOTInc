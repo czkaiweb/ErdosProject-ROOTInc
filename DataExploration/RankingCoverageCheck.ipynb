{
 "cells": [
  {
   "cell_type": "code",
   "execution_count": 1,
   "id": "9ef4f4b4",
   "metadata": {},
   "outputs": [],
   "source": [
    "from DataPreprocessing.python.Data import *"
   ]
  },
  {
   "cell_type": "code",
   "execution_count": 8,
   "id": "fac1a353",
   "metadata": {},
   "outputs": [
    {
     "data": {
      "text/html": [
       "<div>\n",
       "<style scoped>\n",
       "    .dataframe tbody tr th:only-of-type {\n",
       "        vertical-align: middle;\n",
       "    }\n",
       "\n",
       "    .dataframe tbody tr th {\n",
       "        vertical-align: top;\n",
       "    }\n",
       "\n",
       "    .dataframe thead th {\n",
       "        text-align: right;\n",
       "    }\n",
       "</style>\n",
       "<table border=\"1\" class=\"dataframe\">\n",
       "  <thead>\n",
       "    <tr style=\"text-align: right;\">\n",
       "      <th></th>\n",
       "      <th>Currently Insured</th>\n",
       "      <th>Number of Vehicles</th>\n",
       "      <th>Number of Drivers</th>\n",
       "      <th>Marital Status</th>\n",
       "      <th>bid</th>\n",
       "      <th>rank</th>\n",
       "      <th>click</th>\n",
       "      <th>policies_sold</th>\n",
       "    </tr>\n",
       "  </thead>\n",
       "  <tbody>\n",
       "    <tr>\n",
       "      <th>0</th>\n",
       "      <td>unknown</td>\n",
       "      <td>2</td>\n",
       "      <td>1</td>\n",
       "      <td>M</td>\n",
       "      <td>10.0</td>\n",
       "      <td>2</td>\n",
       "      <td>False</td>\n",
       "      <td>0</td>\n",
       "    </tr>\n",
       "    <tr>\n",
       "      <th>1</th>\n",
       "      <td>Y</td>\n",
       "      <td>3</td>\n",
       "      <td>1</td>\n",
       "      <td>M</td>\n",
       "      <td>10.0</td>\n",
       "      <td>5</td>\n",
       "      <td>False</td>\n",
       "      <td>0</td>\n",
       "    </tr>\n",
       "    <tr>\n",
       "      <th>2</th>\n",
       "      <td>Y</td>\n",
       "      <td>3</td>\n",
       "      <td>2</td>\n",
       "      <td>M</td>\n",
       "      <td>10.0</td>\n",
       "      <td>5</td>\n",
       "      <td>False</td>\n",
       "      <td>0</td>\n",
       "    </tr>\n",
       "    <tr>\n",
       "      <th>3</th>\n",
       "      <td>N</td>\n",
       "      <td>3</td>\n",
       "      <td>2</td>\n",
       "      <td>S</td>\n",
       "      <td>10.0</td>\n",
       "      <td>4</td>\n",
       "      <td>False</td>\n",
       "      <td>0</td>\n",
       "    </tr>\n",
       "    <tr>\n",
       "      <th>4</th>\n",
       "      <td>unknown</td>\n",
       "      <td>2</td>\n",
       "      <td>2</td>\n",
       "      <td>S</td>\n",
       "      <td>10.0</td>\n",
       "      <td>2</td>\n",
       "      <td>False</td>\n",
       "      <td>0</td>\n",
       "    </tr>\n",
       "  </tbody>\n",
       "</table>\n",
       "</div>"
      ],
      "text/plain": [
       "  Currently Insured  Number of Vehicles  Number of Drivers Marital Status  \\\n",
       "0           unknown                   2                  1              M   \n",
       "1                 Y                   3                  1              M   \n",
       "2                 Y                   3                  2              M   \n",
       "3                 N                   3                  2              S   \n",
       "4           unknown                   2                  2              S   \n",
       "\n",
       "    bid  rank  click  policies_sold  \n",
       "0  10.0     2  False              0  \n",
       "1  10.0     5  False              0  \n",
       "2  10.0     5  False              0  \n",
       "3  10.0     4  False              0  \n",
       "4  10.0     2  False              0  "
      ]
     },
     "execution_count": 8,
     "metadata": {},
     "output_type": "execute_result"
    }
   ],
   "source": [
    "data = Data()\n",
    "data.addFile(\"Root_Insurance_data.csv\")\n",
    "data.loadData()\n",
    "data.splitData(fraction=[0.6,0,0.4])\n",
    "df_data = data.getDataCopy()\n",
    "df_data.head(5)\n",
    "#isinstance(df_data, pd.DataFrame)"
   ]
  },
  {
   "cell_type": "code",
   "execution_count": 30,
   "id": "be18cb7d",
   "metadata": {},
   "outputs": [
    {
     "name": "stdout",
     "output_type": "stream",
     "text": [
      "[['N', 1, 1, 'M'], ['N', 1, 1, 'S'], ['N', 1, 2, 'M'], ['N', 1, 2, 'S'], ['N', 2, 1, 'M'], ['N', 2, 1, 'S'], ['N', 2, 2, 'M'], ['N', 2, 2, 'S'], ['N', 3, 1, 'M'], ['N', 3, 1, 'S'], ['N', 3, 2, 'M'], ['N', 3, 2, 'S'], ['Y', 1, 1, 'M'], ['Y', 1, 1, 'S'], ['Y', 1, 2, 'M'], ['Y', 1, 2, 'S'], ['Y', 2, 1, 'M'], ['Y', 2, 1, 'S'], ['Y', 2, 2, 'M'], ['Y', 2, 2, 'S'], ['Y', 3, 1, 'M'], ['Y', 3, 1, 'S'], ['Y', 3, 2, 'M'], ['Y', 3, 2, 'S'], ['unknown', 1, 1, 'M'], ['unknown', 1, 1, 'S'], ['unknown', 1, 2, 'M'], ['unknown', 1, 2, 'S'], ['unknown', 2, 1, 'M'], ['unknown', 2, 1, 'S'], ['unknown', 2, 2, 'M'], ['unknown', 2, 2, 'S'], ['unknown', 3, 1, 'M'], ['unknown', 3, 1, 'S'], ['unknown', 3, 2, 'M']]\n"
     ]
    }
   ],
   "source": [
    "set_of_combinations = set()\n",
    "for i in df_data.values:\n",
    "    set_of_combinations.add(tuple(i[:4]))\n",
    "list_features = [ list(elem) for elem in list(set_of_combinations)]\n",
    "list_features.sort()\n",
    "print(list_features)"
   ]
  },
  {
   "cell_type": "code",
   "execution_count": 9,
   "id": "387c1bac",
   "metadata": {},
   "outputs": [],
   "source": [
    "data.groupByFeature(featureSet=set_of_combinations, columns=[\"Currently Insured\",\"Number of Vehicles\",\"Number of Drivers\",\"Marital Status\"], name=\"GroupIndex\")"
   ]
  },
  {
   "cell_type": "code",
   "execution_count": 16,
   "id": "1ddb595d",
   "metadata": {},
   "outputs": [
    {
     "data": {
      "text/plain": [
       "4"
      ]
     },
     "execution_count": 16,
     "metadata": {},
     "output_type": "execute_result"
    }
   ],
   "source": [
    "data_train = data.getTrainDataCopy()\n",
    "data_train.loc[data_train[\"GroupIndex\"]==2][\"rank\"].max()"
   ]
  },
  {
   "cell_type": "code",
   "execution_count": 72,
   "id": "d204d696",
   "metadata": {},
   "outputs": [
    {
     "data": {
      "image/png": "[encoded data removed]",
      "text/plain": [
       "<Figure size 432x288 with 1 Axes>"
      ]
     },
     "metadata": {
      "needs_background": "light"
     },
     "output_type": "display_data"
    }
   ],
   "source": [
    "from matplotlib import pyplot as plt \n",
    "import numpy as np  \n",
    "\n",
    "data_train_np = data_train.loc[data_train[\"GroupIndex\"]==0][\"rank\"].to_numpy() \n",
    "plt.hist(data_train_np, bins = [0.5,1.5,2.5,3.5,4.5,5.5],alpha=0.5,label=\"Married\") \n",
    "data_train_np_2 = data_train.loc[data_train[\"GroupIndex\"]==1][\"rank\"].to_numpy() \n",
    "plt.hist(data_train_np_2, bins = [0.5,1.5,2.5,3.5,4.5,5.5],alpha=0.5,label = \"Single\") \n",
    "plt.legend(loc='upper right')\n",
    "plt.title(\"histogram\") \n",
    "plt.show()"
   ]
  },
  {
   "cell_type": "code",
   "execution_count": 42,
   "id": "30b217d7",
   "metadata": {},
   "outputs": [
    {
     "data": {
      "image/png": "[encoded data removed]",
      "text/plain": [
       "<Figure size 432x288 with 1 Axes>"
      ]
     },
     "metadata": {
      "needs_background": "light"
     },
     "output_type": "display_data"
    }
   ],
   "source": [
    "notsold_np = data_train.loc[data_train[\"policies_sold\"]==0][\"rank\"].to_numpy() \n",
    "plt.hist(notsold_np, bins = [0.5,1.5,2.5,3.5,4.5,5.5],alpha=0.5,label = \"Not sold\") \n",
    "\n",
    "sold_np = data_train.loc[data_train[\"policies_sold\"]==1][\"rank\"].to_numpy() \n",
    "plt.hist(sold_np, bins = [0.5,1.5,2.5,3.5,4.5,5.5],alpha=0.5,label=\"Sold\") \n",
    "plt.legend(loc='upper right')\n",
    "plt.title(\"histogram\") \n",
    "plt.show()"
   ]
  },
  {
   "cell_type": "code",
   "execution_count": 71,
   "id": "392a4a73",
   "metadata": {},
   "outputs": [
    {
     "data": {
      "image/png": "[encoded data removed]",
      "text/plain": [
       "<Figure size 432x288 with 1 Axes>"
      ]
     },
     "metadata": {
      "needs_background": "light"
     },
     "output_type": "display_data"
    }
   ],
   "source": [
    "Group0NotSold = data_train.loc[data_train[\"GroupIndex\"]==3][\"rank\"].to_numpy() \n",
    "plt.hist(Group0NotSold, bins = [0.5,1.5,2.5,3.5,4.5,5.5],alpha=0.5,label=\"Not sold\") \n",
    "\n",
    "Group0Sold = data_train.loc[(data_train[\"GroupIndex\"]==3) & (data_train[\"policies_sold\"]==1)][\"rank\"].to_numpy() \n",
    "plt.hist(Group0Sold, bins = [0.5,1.5,2.5,3.5,4.5,5.5],alpha=0.5,label = \"sold\") \n",
    "\n",
    "plt.legend(loc='upper right')\n",
    "plt.title(\"histogram\") \n",
    "plt.show()"
   ]
  },
  {
   "cell_type": "code",
   "execution_count": 74,
   "id": "e8f77a77",
   "metadata": {},
   "outputs": [
    {
     "data": {
      "image/png": "[encoded data removed]",
      "text/plain": [
       "<Figure size 432x288 with 1 Axes>"
      ]
     },
     "metadata": {
      "needs_background": "light"
     },
     "output_type": "display_data"
    }
   ],
   "source": [
    "oneDriver = data_train.loc[data_train[\"GroupIndex\"]==0][\"rank\"].to_numpy() \n",
    "plt.hist(oneDriver, bins = [0.5,1.5,2.5,3.5,4.5,5.5],alpha=0.3,label=\"1 Driver\") \n",
    "twoDriver = data_train.loc[data_train[\"GroupIndex\"]==4][\"rank\"].to_numpy() \n",
    "plt.hist(twoDriver, bins = [0.5,1.5,2.5,3.5,4.5,5.5],alpha=0.3,label = \"2 Drivers\") \n",
    "threeDriver = data_train.loc[data_train[\"GroupIndex\"]==8][\"rank\"].to_numpy() \n",
    "plt.hist(threeDriver, bins = [0.5,1.5,2.5,3.5,4.5,5.5],alpha=0.3,label = \"3 Drivers\") \n",
    "\n",
    "plt.xlabel(\"Rank\")\n",
    "plt.ylabel(\"Count\")\n",
    "plt.legend(loc='upper right')\n",
    "plt.title(\"histogram\") \n",
    "plt.show()"
   ]
  },
  {
   "cell_type": "code",
   "execution_count": null,
   "id": "a1d6158a",
   "metadata": {},
   "outputs": [],
   "source": []
  }
 ],
 "metadata": {
  "kernelspec": {
   "display_name": "Python 3",
   "language": "python",
   "name": "python3"
  },
  "language_info": {
   "codemirror_mode": {
    "name": "ipython",
    "version": 3
   },
   "file_extension": ".py",
   "mimetype": "text/x-python",
   "name": "python",
   "nbconvert_exporter": "python",
   "pygments_lexer": "ipython3",
   "version": "3.7.10"
  }
 },
 "nbformat": 4,
 "nbformat_minor": 5
}
