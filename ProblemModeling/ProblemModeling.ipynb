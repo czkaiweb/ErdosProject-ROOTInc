{
 "cells": [
  {
   "cell_type": "markdown",
   "id": "0a378e72",
   "metadata": {},
   "source": [
    "<span style=\"font-size:2em;\"><b>ROOT Inc. project modeling</b></span>\n",
    "\n",
    "\n",
    "Let's start an analysis for how to predict the profit given biding strategy and constraints.\n",
    "\n",
    "\n",
    "Given a set of potential customers, with a size of N<sub>custom</sub>, which has distribution with features \n",
    "*f*<sub>customer</sub>\\(Currently Insured, Number of Vehicles, Number of Drivers, Marital Status\\). Luckily, the features are all discrete, which dramatically constain the phase-space.\n",
    "\n",
    "With given biding strategy, which is based on the given features, there is function *f*<sub>BidPrice</sub>(Currently Insured, Number of Vehicles, Number of Drivers, Marital Status| strategy). \n",
    "\n",
    "The function *f*<sub>BidPrice</sub> will immediately map to a Rank distribution *f*<sub>Rank</sub>(Currently Insured, Number of Vehicles, Number of Drivers, Marital Status| strategy)\n",
    "\n",
    "A different way to interpret is: let's assume there is a customer asking for a quote, the ad Rank for this customer will be a function of biding price (which is decided by biding strategy, of course).\n",
    "\n",
    "The biding strategy will decide what customers see in the Vertical search. \n",
    "\n",
    "\n",
    "The next step is to build the connection between the *f*<sub>Rank</sub> to *f*<sub>Click</sub> to *f*<sub>Decesion</sub>. This part is independent from biding strategy, and mature regression study could be done. The concern for this step is: *f*<sub>Rank</sub> may not fully cover the phase-space, e.g. for some high-value customer, the rank will be always low if the biding price is systematically insufficient.\n",
    "\n",
    "\n",
    "Once this is finished, we will be able to predict how likely a customer will purchase the policy. In other words, for a customer with specific features, we can have a curve for P(purchase) -- biding price and predict how much profit will be, combining with other study. \n",
    "\n",
    "Now for a specific customer, we will be able to predict the profit as function of biding price.\n",
    "\n",
    "\n",
    "\n",
    "There are some details to be discussed, \n",
    "\n",
    "1. <b>Does current data fully reveal the Rank - biding price relation?</b>\n",
    "\n",
    "I doubt it. The biding price is always 10.0, it is hard to get the rank-BidingPrice curve at each phase-space point.\n",
    "\n",
    "One way to solve this issue is, randomized biding strategy should be adopted for a fraction of customer (like 1-5%). By doing that, we can extract rank-BidingPrice curce easily as the phase-space are limited to some points.\n",
    "An addtional benefit is, it allows to optimize biding strategy dynamically as the behavior of market can vary with time. \n",
    "\n",
    "2. <b>How we define what is a good biding strategy?</b>\n",
    "\n",
    "For now I have two ideas, based on what the constraint we have.\n",
    "\n",
    "If we would like to make every penny,  we can use the ratio E(profit|biding)/biding for a customer with feature A. Here profit is affected by biding as it affects the decision of customer on policy purchasing.\n",
    "\n",
    "If we have a limit on the total budget on biding, we  will need to estimate the size of customer. And for each type of customer (by type, I mean with specific feature), we find the Max(profit/biding). And in biding, we can prioritize the group with highest Max(profit/biding | feature)"
   ]
  },
  {
   "cell_type": "markdown",
   "id": "088e7306",
   "metadata": {},
   "source": []
  }
 ],
 "metadata": {
  "kernelspec": {
   "display_name": "Python 3",
   "language": "python",
   "name": "python3"
  },
  "language_info": {
   "codemirror_mode": {
    "name": "ipython",
    "version": 3
   },
   "file_extension": ".py",
   "mimetype": "text/x-python",
   "name": "python",
   "nbconvert_exporter": "python",
   "pygments_lexer": "ipython3",
   "version": "3.7.10"
  }
 },
 "nbformat": 4,
 "nbformat_minor": 5
}
