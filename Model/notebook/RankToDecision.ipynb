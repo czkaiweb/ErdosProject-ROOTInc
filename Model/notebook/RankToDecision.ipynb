{
 "cells": [
  {
   "cell_type": "code",
   "execution_count": null,
   "id": "9db32f2f",
   "metadata": {},
   "outputs": [],
   "source": [
    "from DataPreprocessing.python.Data import *\n",
    "\n",
    "import pandas as pd\n",
    "import numpy as np\n",
    "\n",
    "# We'll use this later\n",
    "from numpy import meshgrid\n",
    "\n",
    "## For plotting\n",
    "import matplotlib.pyplot as plt\n",
    "import seaborn as sns\n",
    "\n",
    "# This is new, it will allow us to interact with\n",
    "# 3d plots in the notebook\n",
    "from mpl_toolkits.mplot3d import Axes3D\n",
    "\n",
    "\n",
    "## This sets the plot style\n",
    "## to have a grid on a white background\n",
    "sns.set_style(\"whitegrid\")"
   ]
  },
  {
   "cell_type": "code",
   "execution_count": null,
   "id": "b395777a",
   "metadata": {},
   "outputs": [],
   "source": [
    "rootData = Data(\"/Users/czkaiweb/Research/ErdosBootCamp/Project/ProjectData/Root_Insurance_data.csv\")\n",
    "rootData.loadData()\n",
    "data_copy = rootData.getDataCopy()\n",
    "\n",
    "set_of_combinations = set()\n",
    "for i in data_copy.values:\n",
    "    set_of_combinations.add(tuple(i[:4]))\n",
    "\n",
    "rootData.groupByFeature(featureSet=set_of_combinations, columns=[\"Currently Insured\",\"Number of Vehicles\",\"Number of Drivers\",\"Marital Status\"], name=\"GroupIndex\")\n",
    "rootData.splitData(fraction=[0.8,0,0.2],random_seed=42)\n",
    "\n",
    "data_train = rootData.getTrainDataCopy()"
   ]
  },
  {
   "cell_type": "code",
   "execution_count": null,
   "id": "5dc36154",
   "metadata": {},
   "outputs": [],
   "source": [
    "#data_train[\"GroupIndex\"]\n",
    "data_train.head()"
   ]
  },
  {
   "cell_type": "code",
   "execution_count": null,
   "id": "ea1a46e8",
   "metadata": {},
   "outputs": [],
   "source": [
    "def fillRanks(x,nBins,low,high):\n",
    "    bins = [ (high-low)/nBins*i+low for i in range(nBins + 1)]\n",
    "    binned = pd.cut(x,bins)\n",
    "    filledBins = binned.value_counts()\n",
    "    filledBins = binned.value_counts()[filledBins.index.sort_values()]\n",
    "    return filledBins\n",
    "\n",
    "def fillClickedRanks(x,nBins,low,high):\n",
    "    bins = [ (high-low)/nBins*i+low for i in range(nBins + 1)]\n",
    "    x_clicked = x[x[\"click\"] == True]\n",
    "    binned = pd.cut(x_clicked[\"rank\"],bins)\n",
    "    filledBins = binned.value_counts()\n",
    "    filledBins = binned.value_counts()[filledBins.index.sort_values()]\n",
    "    return filledBins\n",
    "\n",
    "def fillSoldRanks(x,nBins,low,high):\n",
    "    bins = [ (high-low)/nBins*i+low for i in range(nBins + 1)]\n",
    "    x_sold = x[x[\"policies_sold\"] == True]\n",
    "    binned = pd.cut(x_sold[\"rank\"],bins)\n",
    "    filledBins = binned.value_counts()\n",
    "    filledBins = binned.value_counts()[filledBins.index.sort_values()]\n",
    "    return filledBins \n",
    "    \n",
    "\n",
    "rankVecs_grouped = data_train.groupby(['Currently Insured','Number of Vehicles','Number of Drivers','Marital Status'])\n",
    "maps_group = pd.DataFrame(columns=['map_rank2click','map_click2decision'])\n",
    "for index, group in rankVecs_grouped:\n",
    "    rankVec_grouped = fillRanks(group['rank'],5,0.5,5.5)\n",
    "    clickVec_grouped = fillClickedRanks(group[['rank','click']],5,0.5,5.5)\n",
    "    soldVec_grouped = fillSoldRanks(group[['rank','click','policies_sold']],5,0.5,5.5)\n",
    "    map_group=pd.DataFrame([[clickVec_grouped/rankVec_grouped,soldVec_grouped/clickVec_grouped]],index=[index],columns=['map_rank2click','map_click2decision'])\n",
    "    maps_group = pd.concat([maps_group,map_group])\n",
    "\n",
    "\n"
   ]
  },
  {
   "cell_type": "code",
   "execution_count": null,
   "id": "a94319bc",
   "metadata": {},
   "outputs": [],
   "source": [
    "maps_group.head(5)\n",
    "type(maps_group)"
   ]
  },
  {
   "cell_type": "code",
   "execution_count": null,
   "id": "fb578a30",
   "metadata": {},
   "outputs": [],
   "source": [
    "sns.set()\n",
    "\n",
    "sns.catplot(y=\"rank\", x=\"Number of Vehicles\", kind=\"boxen\", data=data_train)\n",
    "sns.catplot(y=\"rank\", x=\"GroupIndex\", kind=\"boxen\", data=data_train)\n",
    "sns.stripplot(y=\"rank\",x=\"Number of Vehicles\", data=data_train)"
   ]
  },
  {
   "cell_type": "code",
   "execution_count": null,
   "id": "714f4dcc",
   "metadata": {},
   "outputs": [],
   "source": []
  }
 ],
 "metadata": {
  "kernelspec": {
   "display_name": "Python 3",
   "language": "python",
   "name": "python3"
  },
  "language_info": {
   "codemirror_mode": {
    "name": "ipython",
    "version": 3
   },
   "file_extension": ".py",
   "mimetype": "text/x-python",
   "name": "python",
   "nbconvert_exporter": "python",
   "pygments_lexer": "ipython3",
   "version": "3.7.10"
  }
 },
 "nbformat": 4,
 "nbformat_minor": 5
}
