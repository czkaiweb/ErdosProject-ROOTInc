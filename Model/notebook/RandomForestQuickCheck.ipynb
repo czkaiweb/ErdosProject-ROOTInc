{
 "cells": [
  {
   "cell_type": "code",
   "execution_count": 1,
   "id": "36e0a05c",
   "metadata": {},
   "outputs": [],
   "source": [
    "from DataPreprocessing.python.Data import *\n",
    "\n",
    "import pandas as pd\n",
    "import numpy as np\n",
    "\n",
    "\n",
    "## For plotting\n",
    "import matplotlib.pyplot as plt\n",
    "import seaborn as sns\n",
    "\n",
    "# This is new, it will allow us to interact with\n",
    "# 3d plots in the notebook\n",
    "from mpl_toolkits.mplot3d import Axes3D\n",
    "\n",
    "\n",
    "## This sets the plot style\n",
    "## to have a grid on a white background\n",
    "sns.set_style(\"whitegrid\")"
   ]
  },
  {
   "cell_type": "code",
   "execution_count": 18,
   "id": "22ec59e5",
   "metadata": {},
   "outputs": [],
   "source": [
    "rootData = Data(\"/Users/czkaiweb/Research/ErdosBootCamp/Project/ProjectData/Root_Insurance_data.csv\")\n",
    "rootData.loadData()\n",
    "rootData.factorizeData()\n",
    "rootData.splitData(fraction=[0.5,0.3,0.2],random_seed=42)\n",
    "data_train = rootData.getTrainDataCopy()\n",
    "data_validation = rootData.getValidationDataCopy()\n",
    "data_test  = rootData.getTestDataCopy()"
   ]
  },
  {
   "cell_type": "code",
   "execution_count": 19,
   "id": "95932328",
   "metadata": {},
   "outputs": [
    {
     "name": "stdout",
     "output_type": "stream",
     "text": [
      "      Currently Insured  Number of Vehicles  Number of Drivers  \\\n",
      "6252                  0                   1                  1   \n",
      "4684                  0                   3                  2   \n",
      "1731                  1                   2                  2   \n",
      "4742                  1                   3                  1   \n",
      "4521                  1                   3                  1   \n",
      "\n",
      "      Marital Status   bid  rank  click  policies_sold  \n",
      "6252               1  10.0     1   True              1  \n",
      "4684               0  10.0     3  False              0  \n",
      "1731               0  10.0     4  False              0  \n",
      "4742               1  10.0     4  False              0  \n",
      "4521               0  10.0     4  False              0  \n",
      "      Currently Insured  Number of Vehicles  Number of Drivers  \\\n",
      "3115                  0                   1                  2   \n",
      "5295                  0                   1                  1   \n",
      "5439                  1                   2                  1   \n",
      "2211                  1                   2                  2   \n",
      "1521                  2                   2                  2   \n",
      "\n",
      "      Marital Status   bid  rank  click  policies_sold  \n",
      "3115               0  10.0     1  False              0  \n",
      "5295               1  10.0     2  False              0  \n",
      "5439               0  10.0     3  False              0  \n",
      "2211               0  10.0     5  False              0  \n",
      "1521               1  10.0     3  False              0  \n",
      "   Currently Insured  Number of Vehicles  Number of Drivers  Marital Status  \\\n",
      "1                  1                   3                  1               0   \n",
      "2                  1                   3                  2               0   \n",
      "4                  0                   2                  2               1   \n",
      "5                  2                   2                  1               0   \n",
      "6                  1                   2                  2               0   \n",
      "\n",
      "    bid  rank  click  policies_sold  \n",
      "1  10.0     5  False              0  \n",
      "2  10.0     5  False              0  \n",
      "4  10.0     2  False              0  \n",
      "5  10.0     5  False              0  \n",
      "6  10.0     4  False              0  \n"
     ]
    }
   ],
   "source": [
    "print(data_train.head())\n",
    "print(data_validation.head())\n",
    "print(data_test.head())"
   ]
  },
  {
   "cell_type": "code",
   "execution_count": 20,
   "id": "461be49e",
   "metadata": {},
   "outputs": [],
   "source": [
    "X_train = data_train.iloc[:, 0:4].values\n",
    "y_train = data_train.iloc[:, -1].values\n",
    "\n",
    "X_validation = data_validation.iloc[:, 0:4].values\n",
    "y_validation = data_validation.iloc[:, -1].values\n",
    "\n",
    "X_test = data_test.iloc[:, 0:4].values\n",
    "y_test = data_test.iloc[:, -1].values"
   ]
  },
  {
   "cell_type": "code",
   "execution_count": 21,
   "id": "d9f375c7",
   "metadata": {},
   "outputs": [],
   "source": [
    "from sklearn.preprocessing import StandardScaler\n",
    "sc = StandardScaler()\n",
    "X_train = sc.fit_transform(X_train)\n",
    "X_validation = sc.transform(X_validation)\n",
    "X_test = sc.transform(X_test)"
   ]
  },
  {
   "cell_type": "code",
   "execution_count": 22,
   "id": "b182b732",
   "metadata": {},
   "outputs": [],
   "source": [
    "from sklearn.ensemble import RandomForestRegressor\n",
    "\n",
    "regressor = RandomForestRegressor(n_estimators=20, random_state=42)\n",
    "regressor.fit(X_train, y_train)\n",
    "y_vpred = regressor.predict(X_validation)"
   ]
  },
  {
   "cell_type": "code",
   "execution_count": 23,
   "id": "b0b78559",
   "metadata": {},
   "outputs": [
    {
     "name": "stdout",
     "output_type": "stream",
     "text": [
      "Mean Absolute Error: 0.12901597473459112\n",
      "Mean Squared Error: 0.06591558714485009\n",
      "Root Mean Squared Error: 0.2567403107126929\n"
     ]
    }
   ],
   "source": [
    "from sklearn import metrics\n",
    "\n",
    "print('Mean Absolute Error:', metrics.mean_absolute_error(y_validation, y_vpred))\n",
    "print('Mean Squared Error:', metrics.mean_squared_error(y_validation, y_vpred))\n",
    "print('Root Mean Squared Error:', np.sqrt(metrics.mean_squared_error(y_validation, y_vpred)))"
   ]
  },
  {
   "cell_type": "code",
   "execution_count": 24,
   "id": "c249aafa",
   "metadata": {},
   "outputs": [],
   "source": [
    "from sklearn.metrics import roc_curve, auc\n",
    "import matplotlib.pyplot as plt"
   ]
  },
  {
   "cell_type": "code",
   "execution_count": 28,
   "id": "88926174",
   "metadata": {},
   "outputs": [],
   "source": [
    "fpr, tpr, thresholds = roc_curve(y_validation, y_vpred, pos_label=1)"
   ]
  },
  {
   "cell_type": "code",
   "execution_count": 51,
   "id": "60292b63",
   "metadata": {},
   "outputs": [
    {
     "data": {
      "image/png": "[encoded data removed]",
      "text/plain": [
       "<Figure size 432x288 with 1 Axes>"
      ]
     },
     "metadata": {},
     "output_type": "display_data"
    }
   ],
   "source": [
    "roc_auc = auc(fpr, tpr)\n",
    " \n",
    "plt.plot(fpr, tpr, 'k--', label='ROC (area = {0:.2f})'.format(roc_auc), lw=2)\n",
    " \n",
    "plt.xlim([-0.05, 1.05])  # 设置x、y轴的上下限，以免和边缘重合，更好的观察图像的整体\n",
    "plt.ylim([-0.05, 1.05])\n",
    "plt.xlabel('False Positive Rate')\n",
    "plt.ylabel('True Positive Rate')  # 可以使用中文，但需要导入一些库即字体\n",
    "plt.title('ROC Curve')\n",
    "plt.legend(loc=\"lower right\")\n",
    "plt.show()"
   ]
  },
  {
   "cell_type": "code",
   "execution_count": 35,
   "id": "e618244b",
   "metadata": {},
   "outputs": [],
   "source": [
    "def getReward(regressor, threshold, Xs, ys):\n",
    "    reward = 0\n",
    "    for index,X in enumerate(Xs):\n",
    "        if regressor.predict(X.reshape(1,-1)) > threshold and ys[index] == 1 :\n",
    "            reward += 130\n",
    "        elif regressor.predict(X.reshape(1,-1)) > threshold and ys[index] == 0 :\n",
    "            reward += -10\n",
    "    return reward\n",
    "            "
   ]
  },
  {
   "cell_type": "code",
   "execution_count": 36,
   "id": "0387a2f0",
   "metadata": {},
   "outputs": [
    {
     "data": {
      "text/plain": [
       "[0,\n",
       " 0,\n",
       " 1300,\n",
       " 2300,\n",
       " 3010,\n",
       " 3710,\n",
       " 3610,\n",
       " 3640,\n",
       " 4900,\n",
       " 4930,\n",
       " 5160,\n",
       " 5670,\n",
       " 5800,\n",
       " 6090,\n",
       " 5930,\n",
       " 5880,\n",
       " 5900,\n",
       " 5960,\n",
       " 5600,\n",
       " 5780,\n",
       " 5440,\n",
       " 5190,\n",
       " 5160,\n",
       " 4940,\n",
       " 5000,\n",
       " 4620,\n",
       " 4140,\n",
       " 3600,\n",
       " 3500,\n",
       " 3140,\n",
       " 2830,\n",
       " 2480,\n",
       " 2260,\n",
       " 1830,\n",
       " 1490,\n",
       " 1290]"
      ]
     },
     "execution_count": 36,
     "metadata": {},
     "output_type": "execute_result"
    }
   ],
   "source": [
    "reward_buffer = []\n",
    "for threshold in thresholds:\n",
    "    reward = getReward(regressor,threshold,X_validation,y_validation)\n",
    "    reward_buffer.append(reward)\n",
    "    \n",
    "reward_buffer"
   ]
  },
  {
   "cell_type": "code",
   "execution_count": 39,
   "id": "a2044e0d",
   "metadata": {},
   "outputs": [
    {
     "data": {
      "image/png": "[encoded data removed]",
      "text/plain": [
       "<Figure size 432x288 with 1 Axes>"
      ]
     },
     "metadata": {},
     "output_type": "display_data"
    }
   ],
   "source": [
    "plt.plot(thresholds, reward_buffer, 'k--', label='reward over threshold', lw=2)\n",
    " \n",
    "plt.xlim([-0.05, 1.05])\n",
    "plt.ylim([-0.05, 7000])\n",
    "plt.xlabel('Threshold')\n",
    "plt.ylabel('Validation result')\n",
    "plt.title('Reward curve')\n",
    "plt.legend(loc=\"lower right\")\n",
    "plt.show()"
   ]
  },
  {
   "cell_type": "code",
   "execution_count": 47,
   "id": "6aeaed5f",
   "metadata": {},
   "outputs": [
    {
     "name": "stdout",
     "output_type": "stream",
     "text": [
      "best_threshold = 0.08431340792640915\n"
     ]
    }
   ],
   "source": [
    "i_best_threshold = reward_buffer.index(max(reward_buffer))\n",
    "best_threshold  = thresholds[i_best_threshold]\n",
    "print(\"best_threshold = {}\".format(best_threshold))"
   ]
  },
  {
   "cell_type": "code",
   "execution_count": 50,
   "id": "8712992c",
   "metadata": {},
   "outputs": [
    {
     "name": "stdout",
     "output_type": "stream",
     "text": [
      "reward = 15050\n",
      "naive reward = 5320\n"
     ]
    }
   ],
   "source": [
    "reward = getReward(regressor,best_threshold,X_test,y_test)\n",
    "print(\"reward = {}\".format(reward))\n",
    "reward_naive = getReward(regressor,0,X_test,y_test)\n",
    "print(\"naive reward = {}\".format(reward_naive))"
   ]
  },
  {
   "cell_type": "code",
   "execution_count": null,
   "id": "61117a2d",
   "metadata": {},
   "outputs": [],
   "source": []
  }
 ],
 "metadata": {
  "kernelspec": {
   "display_name": "Python 3",
   "language": "python",
   "name": "python3"
  },
  "language_info": {
   "codemirror_mode": {
    "name": "ipython",
    "version": 3
   },
   "file_extension": ".py",
   "mimetype": "text/x-python",
   "name": "python",
   "nbconvert_exporter": "python",
   "pygments_lexer": "ipython3",
   "version": "3.7.10"
  }
 },
 "nbformat": 4,
 "nbformat_minor": 5
}
