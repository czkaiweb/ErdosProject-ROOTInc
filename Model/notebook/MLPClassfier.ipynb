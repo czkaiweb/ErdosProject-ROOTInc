{
 "cells": [
  {
   "cell_type": "code",
   "execution_count": 2,
   "id": "36e0a05c",
   "metadata": {},
   "outputs": [],
   "source": [
    "from DataPreprocessing.python.Data import *\n",
    "\n",
    "import pandas as pd\n",
    "import numpy as np\n",
    "\n",
    "\n",
    "## For plotting\n",
    "import matplotlib.pyplot as plt\n",
    "import seaborn as sns\n",
    "\n",
    "# This is new, it will allow us to interact with\n",
    "# 3d plots in the notebook\n",
    "from mpl_toolkits.mplot3d import Axes3D\n",
    "\n",
    "\n",
    "## This sets the plot style\n",
    "## to have a grid on a white background\n",
    "sns.set_style(\"whitegrid\")"
   ]
  },
  {
   "cell_type": "code",
   "execution_count": 7,
   "id": "22ec59e5",
   "metadata": {},
   "outputs": [],
   "source": [
    "rootData = Data(\"/Users/czkaiweb/Research/ErdosBootCamp/Project/ProjectData/Root_Insurance_data.csv\")\n",
    "rootData.loadData()\n",
    "rootData.factorizeData()\n",
    "rootData.splitData(fraction=[0.5,0.3,0.2],random_seed=42)\n",
    "data_train = rootData.getTrainDataCopy()\n",
    "data_validation = rootData.getValidationDataCopy()\n",
    "data_test  = rootData.getTestDataCopy()\n",
    "\n",
    "X_train = data_train.iloc[:, 0:4].values\n",
    "y_train = data_train.iloc[:, -1].values\n",
    "\n",
    "X_validation = data_validation.iloc[:, 0:4].values\n",
    "y_validation = data_validation.iloc[:, -1].values\n",
    "\n",
    "X_test = data_test.iloc[:, 0:4].values\n",
    "y_test = data_test.iloc[:, -1].values\n",
    "\n",
    "from sklearn.preprocessing import StandardScaler\n",
    "sc = StandardScaler()\n",
    "X_train = sc.fit_transform(X_train)\n",
    "X_validation = sc.transform(X_validation)\n",
    "X_test = sc.transform(X_test)"
   ]
  },
  {
   "cell_type": "code",
   "execution_count": 54,
   "id": "b182b732",
   "metadata": {},
   "outputs": [],
   "source": [
    "from sklearn.neural_network import MLPClassifier\n",
    "from sklearn.model_selection import GridSearchCV\n",
    "\n",
    "model = MLPClassifier(hidden_layer_sizes=30, \n",
    "                    activation='relu',solver='adam', \n",
    "                    alpha=0.0001, batch_size='auto', learning_rate='constant', \n",
    "                    learning_rate_init=0.001, power_t=0.5, max_iter=200, shuffle=True)\n",
    "\n",
    "\n",
    "parameters = {'activation':['relu','tanh'],\n",
    "              'learning_rate_init': [0.01, 0.02, .04, .08, 0.1, 0.2, 0.4], #so called `eta` value\n",
    "              'solver': ['adam','sgd']}\n",
    "\n",
    "clf = GridSearchCV(model, parameters, n_jobs=5, \n",
    "                   scoring='roc_auc',\n",
    "                   verbose=2, refit=True)\n"
   ]
  },
  {
   "cell_type": "code",
   "execution_count": 58,
   "id": "01771544",
   "metadata": {},
   "outputs": [
    {
     "name": "stdout",
     "output_type": "stream",
     "text": [
      "Fitting 5 folds for each of 28 candidates, totalling 140 fits\n"
     ]
    }
   ],
   "source": [
    "clf.fit(X_train, y_train)\n",
    "y_vpred = clf.predict(X_validation)\n",
    "y_tpred = clf.predict(X_test)"
   ]
  },
  {
   "cell_type": "code",
   "execution_count": 72,
   "id": "b0b78559",
   "metadata": {},
   "outputs": [
    {
     "name": "stdout",
     "output_type": "stream",
     "text": [
      "0.7199675000685007\n",
      "{'activation': 'tanh', 'learning_rate_init': 0.1, 'solver': 'sgd'}\n"
     ]
    }
   ],
   "source": [
    "print(clf.best_score_)\n",
    "print(clf.best_params_)"
   ]
  },
  {
   "cell_type": "code",
   "execution_count": 73,
   "id": "45c6ddf7",
   "metadata": {},
   "outputs": [
    {
     "data": {
      "text/plain": [
       "array([0])"
      ]
     },
     "execution_count": 73,
     "metadata": {},
     "output_type": "execute_result"
    }
   ],
   "source": [
    "clf.predict(np.array([1.26363794,  1.4545057,  1.9892577 ,  1.04333826]).reshape(1,-1))"
   ]
  },
  {
   "cell_type": "code",
   "execution_count": 60,
   "id": "c249aafa",
   "metadata": {},
   "outputs": [],
   "source": [
    "from sklearn.metrics import roc_curve, auc\n",
    "import matplotlib.pyplot as plt"
   ]
  },
  {
   "cell_type": "code",
   "execution_count": 61,
   "id": "88926174",
   "metadata": {},
   "outputs": [],
   "source": [
    "fpr, tpr, thresholds = roc_curve(y_validation, y_vpred, pos_label=1)"
   ]
  },
  {
   "cell_type": "code",
   "execution_count": 62,
   "id": "60292b63",
   "metadata": {},
   "outputs": [
    {
     "data": {
      "image/png": "[encoded data removed]",
      "text/plain": [
       "<Figure size 432x288 with 1 Axes>"
      ]
     },
     "metadata": {},
     "output_type": "display_data"
    }
   ],
   "source": [
    "roc_auc = auc(fpr, tpr)\n",
    " \n",
    "plt.plot(fpr, tpr, 'k--', label='ROC (area = {0:.2f})'.format(roc_auc), lw=2)\n",
    " \n",
    "plt.xlim([-0.05, 1.05])  # 设置x、y轴的上下限，以免和边缘重合，更好的观察图像的整体\n",
    "plt.ylim([-0.05, 1.05])\n",
    "plt.xlabel('False Positive Rate')\n",
    "plt.ylabel('True Positive Rate')  # 可以使用中文，但需要导入一些库即字体\n",
    "plt.title('ROC Curve')\n",
    "plt.legend(loc=\"lower right\")\n",
    "plt.show()"
   ]
  },
  {
   "cell_type": "code",
   "execution_count": 47,
   "id": "e618244b",
   "metadata": {},
   "outputs": [],
   "source": [
    "def getReward(regressor, threshold, Xs, ys):\n",
    "    reward = 0\n",
    "    for index,X in enumerate(Xs):\n",
    "        if regressor.predict(X.reshape(1,-1)) > threshold and ys[index] == 1 :\n",
    "            reward += 130\n",
    "        elif regressor.predict(X.reshape(1,-1)) > threshold and ys[index] == 0 :\n",
    "            reward += -10\n",
    "    return reward\n",
    "            "
   ]
  },
  {
   "cell_type": "code",
   "execution_count": 63,
   "id": "0387a2f0",
   "metadata": {},
   "outputs": [
    {
     "name": "stdout",
     "output_type": "stream",
     "text": [
      "[1 0]\n"
     ]
    },
    {
     "data": {
      "text/plain": [
       "[0, 0]"
      ]
     },
     "execution_count": 63,
     "metadata": {},
     "output_type": "execute_result"
    }
   ],
   "source": [
    "reward_buffer = []\n",
    "print(thresholds)\n",
    "for threshold in thresholds:\n",
    "    reward = getReward(clf,threshold,X_validation,y_validation)\n",
    "    reward_buffer.append(reward)\n",
    "    \n",
    "reward_buffer"
   ]
  },
  {
   "cell_type": "code",
   "execution_count": 79,
   "id": "a2044e0d",
   "metadata": {},
   "outputs": [
    {
     "data": {
      "image/png": "[encoded data removed]",
      "text/plain": [
       "<Figure size 432x288 with 1 Axes>"
      ]
     },
     "metadata": {},
     "output_type": "display_data"
    }
   ],
   "source": [
    "plt.plot(thresholds, reward_buffer, 'k--', label='reward over threshold', lw=2)\n",
    " \n",
    "plt.xlim([-0.05, 1.05])\n",
    "plt.ylim([-0.05, 7000])\n",
    "plt.xlabel('Threshold')\n",
    "plt.ylabel('Validation result')\n",
    "plt.title('Reward curve')\n",
    "plt.legend(loc=\"lower right\")\n",
    "plt.show()"
   ]
  },
  {
   "cell_type": "code",
   "execution_count": 75,
   "id": "6aeaed5f",
   "metadata": {},
   "outputs": [
    {
     "name": "stdout",
     "output_type": "stream",
     "text": [
      "best_threshold = 1\n"
     ]
    }
   ],
   "source": [
    "i_best_threshold = reward_buffer.index(max(reward_buffer))\n",
    "best_threshold  = thresholds[i_best_threshold]\n",
    "print(\"best_threshold = {}\".format(best_threshold))"
   ]
  },
  {
   "cell_type": "code",
   "execution_count": 78,
   "id": "8712992c",
   "metadata": {},
   "outputs": [
    {
     "name": "stdout",
     "output_type": "stream",
     "text": [
      "reward = 0\n",
      "naive reward = 5320\n"
     ]
    }
   ],
   "source": [
    "reward = getReward(clf,best_threshold,X_test,y_test)\n",
    "print(\"reward = {}\".format(reward))\n",
    "reward_naive = getReward(clf,-1,X_test,y_test)\n",
    "print(\"naive reward = {}\".format(reward_naive))"
   ]
  },
  {
   "cell_type": "code",
   "execution_count": null,
   "id": "61117a2d",
   "metadata": {},
   "outputs": [],
   "source": []
  }
 ],
 "metadata": {
  "kernelspec": {
   "display_name": "Python 3",
   "language": "python",
   "name": "python3"
  },
  "language_info": {
   "codemirror_mode": {
    "name": "ipython",
    "version": 3
   },
   "file_extension": ".py",
   "mimetype": "text/x-python",
   "name": "python",
   "nbconvert_exporter": "python",
   "pygments_lexer": "ipython3",
   "version": "3.7.10"
  }
 },
 "nbformat": 4,
 "nbformat_minor": 5
}
