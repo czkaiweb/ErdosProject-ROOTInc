{
 "cells": [
  {
   "cell_type": "code",
   "execution_count": 1,
   "id": "fda2bd0d",
   "metadata": {},
   "outputs": [],
   "source": [
    "from DataPreprocessing.python.Data import *\n",
    "\n",
    "import pandas as pd\n",
    "import numpy as np\n",
    "\n",
    "\n",
    "## For plotting\n",
    "import matplotlib.pyplot as plt\n",
    "import seaborn as sns\n",
    "\n",
    "# This is new, it will allow us to interact with\n",
    "# 3d plots in the notebook\n",
    "from mpl_toolkits.mplot3d import Axes3D\n",
    "\n",
    "\n",
    "from sklearn.preprocessing import StandardScaler\n",
    "\n",
    "## This sets the plot style\n",
    "## to have a grid on a white background\n",
    "sns.set_style(\"whitegrid\")\n",
    "\n",
    "import tensorflow as tf"
   ]
  },
  {
   "cell_type": "code",
   "execution_count": 10,
   "id": "ebaf137a",
   "metadata": {},
   "outputs": [],
   "source": [
    "W_init = tf.random_normal_initializer(mean=0, stddev=1.0)\n",
    "b_init = tf.constant_initializer(1.0)\n",
    "def SimpleNN(input_state_shape, name=''):\n",
    "    inputs = tf.keras.layers.Input(shape=(input_state_shape,), name='A_input')\n",
    "    x = tf.keras.layers.Dense(units=8, activation=tf.nn.relu, kernel_initializer=W_init, bias_initializer=b_init, name='A_l1')(inputs)\n",
    "    x = tf.keras.layers.Dense(units=4, activation=tf.nn.relu, kernel_initializer=W_init, bias_initializer=b_init, name='A_l2')(x)\n",
    "    x = tf.keras.layers.Dense(units=1, activation=tf.nn.tanh, kernel_initializer=W_init, bias_initializer=b_init, name='A_a')(x)\n",
    "    x = tf.keras.layers.Lambda(lambda x: (x+1.0)/2)(x)\n",
    "    #x = tf.keras.layers.Dense(units=1, activation=tf.nn.relu, kernel_initializer=W_init, bias_initializer=b_init, name='A_last')(x)\n",
    "    return tf.keras.models.Model(inputs=inputs, outputs=x, name='Actor' + name)"
   ]
  },
  {
   "cell_type": "code",
   "execution_count": null,
   "id": "5cb02330",
   "metadata": {},
   "outputs": [],
   "source": []
  },
  {
   "cell_type": "code",
   "execution_count": 3,
   "id": "97d385fc",
   "metadata": {},
   "outputs": [],
   "source": [
    "rootData = Data(\"/Users/czkaiweb/Research/ErdosBootCamp/Project/ProjectData/Root_Insurance_data.csv\")\n",
    "rootData.loadData()\n",
    "rootData.factorizeData()\n",
    "rootData.splitData(fraction=[0.5,0.3,0.2],random_seed=42)\n",
    "data_train = rootData.getTrainDataCopy()\n",
    "data_validation = rootData.getValidationDataCopy()\n",
    "data_test  = rootData.getTestDataCopy()\n",
    "\n",
    "X_train = data_train.iloc[:, 0:4].values\n",
    "y_train = data_train.iloc[:, -1].values\n",
    "\n",
    "X_validation = data_validation.iloc[:, 0:4].values\n",
    "y_validation = data_validation.iloc[:, -1].values\n",
    "\n",
    "X_test = data_test.iloc[:, 0:4].values\n",
    "y_test = data_test.iloc[:, -1].values\n",
    "\n",
    "\n",
    "sc = StandardScaler()\n",
    "X_train = sc.fit_transform(X_train)\n",
    "X_validation = sc.transform(X_validation)\n",
    "X_test = sc.transform(X_test)"
   ]
  },
  {
   "cell_type": "code",
   "execution_count": 4,
   "id": "1c952352",
   "metadata": {},
   "outputs": [
    {
     "data": {
      "text/plain": [
       "array([[-1.26363794, -1.1963683 , -1.01085896,  1.04333826],\n",
       "       [-1.26363794,  1.28726945,  0.9892577 , -0.95846193],\n",
       "       [-0.03370029,  0.04545057,  0.9892577 , -0.95846193],\n",
       "       ...,\n",
       "       [-0.03370029,  0.04545057,  0.9892577 ,  1.04333826],\n",
       "       [-0.03370029,  0.04545057, -1.01085896,  1.04333826],\n",
       "       [-1.26363794,  0.04545057,  0.9892577 ,  1.04333826]])"
      ]
     },
     "execution_count": 4,
     "metadata": {},
     "output_type": "execute_result"
    }
   ],
   "source": [
    "X_train"
   ]
  },
  {
   "cell_type": "code",
   "execution_count": 11,
   "id": "ccec2ac4",
   "metadata": {},
   "outputs": [
    {
     "name": "stdout",
     "output_type": "stream",
     "text": [
      "Epoch 1/10\n",
      "157/157 [==============================] - 0s 629us/step - loss: 0.9238 - auc_2: 0.5000\n",
      "Epoch 2/10\n",
      "157/157 [==============================] - 0s 596us/step - loss: 0.9238 - auc_2: 0.5000\n",
      "Epoch 3/10\n",
      "157/157 [==============================] - 0s 615us/step - loss: 0.9238 - auc_2: 0.5000\n",
      "Epoch 4/10\n",
      "157/157 [==============================] - 0s 598us/step - loss: 0.9238 - auc_2: 0.5000\n",
      "Epoch 5/10\n",
      "157/157 [==============================] - 0s 584us/step - loss: 0.9238 - auc_2: 0.5000\n",
      "Epoch 6/10\n",
      "157/157 [==============================] - 0s 750us/step - loss: 0.9238 - auc_2: 0.5000\n",
      "Epoch 7/10\n",
      "157/157 [==============================] - 0s 763us/step - loss: 0.9238 - auc_2: 0.5000\n",
      "Epoch 8/10\n",
      "157/157 [==============================] - 0s 696us/step - loss: 0.9238 - auc_2: 0.5000\n",
      "Epoch 9/10\n",
      "157/157 [==============================] - 0s 630us/step - loss: 0.9238 - auc_2: 0.5000\n",
      "Epoch 10/10\n",
      "157/157 [==============================] - 0s 590us/step - loss: 0.9238 - auc_2: 0.5000\n"
     ]
    },
    {
     "data": {
      "text/plain": [
       "<tensorflow.python.keras.callbacks.History at 0x7fc7460b8890>"
      ]
     },
     "execution_count": 11,
     "metadata": {},
     "output_type": "execute_result"
    }
   ],
   "source": [
    "\n",
    "model_simpleNN = SimpleNN(4)\n",
    "model_simpleNN.compile(optimizer=\"sgd\", loss=\"mse\",metrics=[tf.keras.metrics.AUC()])\n",
    "model_simpleNN.fit(X_train,y_train,epochs=10)"
   ]
  },
  {
   "cell_type": "code",
   "execution_count": 14,
   "id": "ca307402",
   "metadata": {},
   "outputs": [
    {
     "data": {
      "text/plain": [
       "0.99984884"
      ]
     },
     "execution_count": 14,
     "metadata": {},
     "output_type": "execute_result"
    }
   ],
   "source": [
    "y_vpred = model_simpleNN.predict(X_validation)\n",
    "y_vpred.max()\n",
    "y_vpred.min()"
   ]
  },
  {
   "cell_type": "code",
   "execution_count": 12,
   "id": "abc99b29",
   "metadata": {},
   "outputs": [
    {
     "data": {
      "image/png": "[encoded data removed]",
      "text/plain": [
       "<Figure size 432x288 with 1 Axes>"
      ]
     },
     "metadata": {},
     "output_type": "display_data"
    }
   ],
   "source": [
    "from sklearn.metrics import roc_curve, auc\n",
    "import matplotlib.pyplot as plt\n",
    "\n",
    "fpr, tpr, thresholds = roc_curve(y_validation, y_vpred, pos_label=1)\n",
    "roc_auc = auc(fpr, tpr)\n",
    " \n",
    "plt.plot(fpr, tpr, 'k--', label='ROC (area = {0:.2f})'.format(roc_auc), lw=2)\n",
    " \n",
    "plt.xlim([-0.05, 1.05])\n",
    "plt.ylim([-0.05, 1.05])\n",
    "plt.xlabel('False Positive Rate')\n",
    "plt.ylabel('True Positive Rate')\n",
    "plt.title('ROC Curve')\n",
    "plt.legend(loc=\"lower right\")\n",
    "plt.show()"
   ]
  },
  {
   "cell_type": "code",
   "execution_count": null,
   "id": "1758f1b1",
   "metadata": {},
   "outputs": [],
   "source": [
    "def getReward(regressor, threshold, Xs, ys):\n",
    "    reward = 0\n",
    "    for index,X in enumerate(Xs):\n",
    "        if regressor.predict(X.reshape(1,-1)) > threshold and ys[index] == 1 :\n",
    "            reward += 130\n",
    "        elif regressor.predict(X.reshape(1,-1)) > threshold and ys[index] == 0 :\n",
    "            reward += -10\n",
    "    return reward\n",
    "            "
   ]
  },
  {
   "cell_type": "code",
   "execution_count": null,
   "id": "e1a95e7b",
   "metadata": {},
   "outputs": [],
   "source": [
    "reward_buffer = []\n",
    "for threshold in thresholds:\n",
    "    reward = getReward(model_simpleNN,threshold,X_validation,y_validation)\n",
    "    reward_buffer.append(reward)\n",
    "    \n",
    "reward_buffer"
   ]
  },
  {
   "cell_type": "code",
   "execution_count": null,
   "id": "5dfa35d6",
   "metadata": {},
   "outputs": [],
   "source": [
    "plt.plot(thresholds, reward_buffer, 'k--', label='reward over threshold', lw=2)\n",
    " \n",
    "plt.xlim([-0.05, 1.05])\n",
    "plt.ylim([-0.05, 7000])\n",
    "plt.xlabel('Threshold')\n",
    "plt.ylabel('Validation result')\n",
    "plt.title('Reward curve')\n",
    "plt.legend(loc=\"lower right\")\n",
    "plt.show()\n",
    "\n",
    "i_best_threshold = reward_buffer.index(max(reward_buffer))\n",
    "best_threshold  = thresholds[i_best_threshold]\n",
    "print(\"best_threshold = {}\".format(best_threshold))"
   ]
  },
  {
   "cell_type": "code",
   "execution_count": null,
   "id": "3f28c6e0",
   "metadata": {},
   "outputs": [],
   "source": [
    "reward = getReward(model_simpleNN,best_threshold,X_test,y_test)\n",
    "print(\"reward = {}\".format(reward))\n",
    "reward_naive = getReward(model_simpleNN,0,X_test,y_test)\n",
    "print(\"naive reward = {}\".format(reward_naive))"
   ]
  },
  {
   "cell_type": "code",
   "execution_count": null,
   "id": "3a75cf54",
   "metadata": {},
   "outputs": [],
   "source": []
  }
 ],
 "metadata": {
  "kernelspec": {
   "display_name": "Python 3",
   "language": "python",
   "name": "python3"
  },
  "language_info": {
   "codemirror_mode": {
    "name": "ipython",
    "version": 3
   },
   "file_extension": ".py",
   "mimetype": "text/x-python",
   "name": "python",
   "nbconvert_exporter": "python",
   "pygments_lexer": "ipython3",
   "version": "3.7.10"
  }
 },
 "nbformat": 4,
 "nbformat_minor": 5
}
