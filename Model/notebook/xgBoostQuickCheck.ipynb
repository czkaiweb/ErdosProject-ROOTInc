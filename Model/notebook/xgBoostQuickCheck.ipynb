{
 "cells": [
  {
   "cell_type": "code",
   "execution_count": 31,
   "id": "8165e9c8",
   "metadata": {},
   "outputs": [],
   "source": [
    "from DataPreprocessing.python.Data import *\n",
    "\n",
    "import pandas as pd\n",
    "import numpy as np\n",
    "\n",
    "\n",
    "## For plotting\n",
    "import matplotlib.pyplot as plt\n",
    "import seaborn as sns\n",
    "\n",
    "# This is new, it will allow us to interact with\n",
    "# 3d plots in the notebook\n",
    "from mpl_toolkits.mplot3d import Axes3D\n",
    "\n",
    "\n",
    "## This sets the plot style\n",
    "## to have a grid on a white background\n",
    "sns.set_style(\"whitegrid\")"
   ]
  },
  {
   "cell_type": "code",
   "execution_count": 32,
   "id": "cea53ac2",
   "metadata": {},
   "outputs": [],
   "source": [
    "rootData = Data(\"/Users/czkaiweb/Research/ErdosBootCamp/Project/ProjectData/Root_Insurance_data.csv\")\n",
    "rootData.loadData()\n",
    "rootData.factorizeData()\n",
    "rootData.splitData(fraction=[0.5,0.3,0.2],random_seed=42)\n",
    "data_train = rootData.getTrainDataCopy()\n",
    "data_validation = rootData.getValidationDataCopy()\n",
    "data_test  = rootData.getTestDataCopy()"
   ]
  },
  {
   "cell_type": "code",
   "execution_count": 33,
   "id": "ddb78e41",
   "metadata": {},
   "outputs": [],
   "source": [
    "from xgboost import XGBRegressor"
   ]
  },
  {
   "cell_type": "code",
   "execution_count": 34,
   "id": "56d3391e",
   "metadata": {},
   "outputs": [],
   "source": [
    "X_train = data_train.iloc[:, 0:4].values\n",
    "y_train = data_train.iloc[:, -1].values\n",
    "\n",
    "X_validation = data_validation.iloc[:, 0:4].values\n",
    "y_validation = data_validation.iloc[:, -1].values\n",
    "\n",
    "X_test = data_test.iloc[:, 0:4].values\n",
    "y_test = data_test.iloc[:, -1].values"
   ]
  },
  {
   "cell_type": "code",
   "execution_count": 35,
   "id": "6c99d04e",
   "metadata": {},
   "outputs": [],
   "source": [
    "from sklearn.preprocessing import StandardScaler\n",
    "sc = StandardScaler()\n",
    "X_train = sc.fit_transform(X_train)\n",
    "X_validation = sc.transform(X_validation)\n",
    "X_test = sc.transform(X_test)"
   ]
  },
  {
   "cell_type": "code",
   "execution_count": 59,
   "id": "06763f45",
   "metadata": {},
   "outputs": [
    {
     "data": {
      "text/plain": [
       "XGBRegressor(base_score=0.5, booster='gbtree', colsample_bylevel=1,\n",
       "             colsample_bynode=1, colsample_bytree=1, gamma=0, gpu_id=-1,\n",
       "             importance_type='gain', interaction_constraints='',\n",
       "             learning_rate=0.300000012, max_delta_step=0, max_depth=6,\n",
       "             min_child_weight=1, missing=nan, monotone_constraints='()',\n",
       "             n_estimators=100, n_jobs=12, num_parallel_tree=1, random_state=0,\n",
       "             reg_alpha=0, reg_lambda=1, scale_pos_weight=1, subsample=1,\n",
       "             tree_method='exact', use_label_encoder=False,\n",
       "             validate_parameters=1, verbosity=None)"
      ]
     },
     "execution_count": 59,
     "metadata": {},
     "output_type": "execute_result"
    }
   ],
   "source": [
    "model = XGBRegressor(use_label_encoder=False)\n",
    "model.fit(X_train, y_train)"
   ]
  },
  {
   "cell_type": "code",
   "execution_count": 37,
   "id": "9035682b",
   "metadata": {},
   "outputs": [],
   "source": [
    "from sklearn.metrics import accuracy_score"
   ]
  },
  {
   "cell_type": "code",
   "execution_count": 38,
   "id": "cffd8659",
   "metadata": {},
   "outputs": [],
   "source": [
    "y_vpred = model.predict(X_validation)"
   ]
  },
  {
   "cell_type": "code",
   "execution_count": 60,
   "id": "bfb1a3b8",
   "metadata": {},
   "outputs": [],
   "source": [
    "import sklearn\n",
    "#from sklearn.model_selection import cross_validation\n",
    "from sklearn.model_selection import GridSearchCV"
   ]
  },
  {
   "cell_type": "code",
   "execution_count": 90,
   "id": "e546790c",
   "metadata": {},
   "outputs": [],
   "source": [
    "\n",
    "parameters = {'nthread':[4], #when use hyperthread, xgboost may become slower\n",
    "              'objective':['reg:linear'],\n",
    "              'learning_rate': [.001,.002,.004,.008,.01, 0.02, .04, .08, 0.1], #so called `eta` value\n",
    "              'max_depth': [3, 4, 5],\n",
    "              'min_child_weight': [2, 3, 4],\n",
    "              'silent': [1],\n",
    "              'subsample': [0.7],\n",
    "              'colsample_bytree': [0.7],\n",
    "              'n_estimators': [200]}\n",
    "\n",
    "clf = GridSearchCV(model, parameters, n_jobs=5, \n",
    "                   scoring='roc_auc',\n",
    "                   verbose=2, refit=True)\n"
   ]
  },
  {
   "cell_type": "code",
   "execution_count": 92,
   "id": "7ddccc07",
   "metadata": {},
   "outputs": [
    {
     "name": "stdout",
     "output_type": "stream",
     "text": [
      "Fitting 5 folds for each of 81 candidates, totalling 405 fits\n",
      "[22:08:04] WARNING: /Users/travis/build/dmlc/xgboost/src/objective/regression_obj.cu:171: reg:linear is now deprecated in favor of reg:squarederror.\n",
      "[22:08:04] WARNING: /Users/travis/build/dmlc/xgboost/src/learner.cc:573: \n",
      "Parameters: { \"silent\" } might not be used.\n",
      "\n",
      "  This may not be accurate due to some parameters are only used in language bindings but\n",
      "  passed down to XGBoost core.  Or some parameters are not used but slip through this\n",
      "  verification. Please open an issue if you find above cases.\n",
      "\n",
      "\n"
     ]
    },
    {
     "data": {
      "text/plain": [
       "GridSearchCV(estimator=XGBRegressor(base_score=0.5, booster='gbtree',\n",
       "                                    colsample_bylevel=1, colsample_bynode=1,\n",
       "                                    colsample_bytree=1, gamma=0, gpu_id=-1,\n",
       "                                    importance_type='gain',\n",
       "                                    interaction_constraints='',\n",
       "                                    learning_rate=0.300000012, max_delta_step=0,\n",
       "                                    max_depth=6, min_child_weight=1,\n",
       "                                    missing=nan, monotone_constraints='()',\n",
       "                                    n_estimators=100, n_jobs=12,\n",
       "                                    num_parallel_tree...\n",
       "                                    tree_method='exact',\n",
       "                                    use_label_encoder=False,\n",
       "                                    validate_parameters=1, verbosity=None),\n",
       "             n_jobs=5,\n",
       "             param_grid={'colsample_bytree': [0.7],\n",
       "                         'learning_rate': [0.001, 0.002, 0.004, 0.008, 0.01,\n",
       "                                           0.02, 0.04, 0.08, 0.1],\n",
       "                         'max_depth': [3, 4, 5], 'min_child_weight': [2, 3, 4],\n",
       "                         'n_estimators': [200], 'nthread': [4],\n",
       "                         'objective': ['reg:linear'], 'silent': [1],\n",
       "                         'subsample': [0.7]},\n",
       "             scoring='roc_auc', verbose=2)"
      ]
     },
     "execution_count": 92,
     "metadata": {},
     "output_type": "execute_result"
    }
   ],
   "source": [
    "clf.fit(X_train,y_train)"
   ]
  },
  {
   "cell_type": "code",
   "execution_count": 93,
   "id": "e99b8b68",
   "metadata": {},
   "outputs": [],
   "source": [
    "y_vpred = clf.predict(X_validation)"
   ]
  },
  {
   "cell_type": "code",
   "execution_count": 94,
   "id": "d9bed702",
   "metadata": {},
   "outputs": [
    {
     "name": "stdout",
     "output_type": "stream",
     "text": [
      "0.7234774155538647\n",
      "{'colsample_bytree': 0.7, 'learning_rate': 0.01, 'max_depth': 3, 'min_child_weight': 2, 'n_estimators': 200, 'nthread': 4, 'objective': 'reg:linear', 'silent': 1, 'subsample': 0.7}\n"
     ]
    }
   ],
   "source": [
    "y_vpred.max()\n",
    "print(clf.best_score_)\n",
    "print(clf.best_params_)"
   ]
  },
  {
   "cell_type": "code",
   "execution_count": 95,
   "id": "1db68f2e",
   "metadata": {},
   "outputs": [
    {
     "data": {
      "image/png": "[encoded data removed]",
      "text/plain": [
       "<Figure size 432x288 with 1 Axes>"
      ]
     },
     "metadata": {},
     "output_type": "display_data"
    }
   ],
   "source": [
    "from sklearn.metrics import roc_curve, auc\n",
    "import matplotlib.pyplot as plt\n",
    "fpr, tpr, thresholds = roc_curve(y_validation, y_vpred, pos_label=1)\n",
    "roc_auc = auc(fpr, tpr)\n",
    " \n",
    "plt.plot(fpr, tpr, 'k--', label='ROC (area = {0:.2f})'.format(roc_auc), lw=2)\n",
    " \n",
    "plt.xlim([-0.05, 1.05])  # 设置x、y轴的上下限，以免和边缘重合，更好的观察图像的整体\n",
    "plt.ylim([-0.05, 1.05])\n",
    "plt.xlabel('False Positive Rate')\n",
    "plt.ylabel('True Positive Rate')  # 可以使用中文，但需要导入一些库即字体\n",
    "plt.title('ROC Curve')\n",
    "plt.legend(loc=\"lower right\")\n",
    "plt.show()"
   ]
  },
  {
   "cell_type": "code",
   "execution_count": 74,
   "id": "6d039e9a",
   "metadata": {},
   "outputs": [],
   "source": [
    "def getReward(regressor, threshold, Xs, ys):\n",
    "    reward = 0\n",
    "    for index,X in enumerate(Xs):\n",
    "        if regressor.predict(X.reshape(1,-1)) > threshold and ys[index] == 1 :\n",
    "            reward += 130\n",
    "        elif regressor.predict(X.reshape(1,-1)) > threshold and ys[index] == 0 :\n",
    "            reward += -10\n",
    "    return reward\n",
    "            "
   ]
  },
  {
   "cell_type": "code",
   "execution_count": 96,
   "id": "617aa451",
   "metadata": {},
   "outputs": [
    {
     "data": {
      "text/plain": [
       "[0,\n",
       " 0,\n",
       " 1300,\n",
       " 2010,\n",
       " 3010,\n",
       " 3710,\n",
       " 4970,\n",
       " 4870,\n",
       " 5160,\n",
       " 5000,\n",
       " 5060,\n",
       " 5570,\n",
       " 5600,\n",
       " 5730,\n",
       " 5760,\n",
       " 5780,\n",
       " 6010,\n",
       " 5960,\n",
       " 5710,\n",
       " 5890,\n",
       " 5860,\n",
       " 5500,\n",
       " 5160,\n",
       " 5220,\n",
       " 4870,\n",
       " 4770,\n",
       " 4550,\n",
       " 4120,\n",
       " 3920,\n",
       " 3700,\n",
       " 3160,\n",
       " 2680,\n",
       " 2350,\n",
       " 1970,\n",
       " 1610,\n",
       " 1300]"
      ]
     },
     "execution_count": 96,
     "metadata": {},
     "output_type": "execute_result"
    }
   ],
   "source": [
    "reward_buffer = []\n",
    "for threshold in thresholds:\n",
    "    reward = getReward(clf,threshold,X_validation,y_validation)\n",
    "    reward_buffer.append(reward)\n",
    "    \n",
    "reward_buffer"
   ]
  },
  {
   "cell_type": "code",
   "execution_count": 97,
   "id": "6efba66c",
   "metadata": {},
   "outputs": [
    {
     "data": {
      "image/png": "[encoded data removed]",
      "text/plain": [
       "<Figure size 432x288 with 1 Axes>"
      ]
     },
     "metadata": {},
     "output_type": "display_data"
    }
   ],
   "source": [
    "plt.plot(thresholds, reward_buffer, 'k--', label='reward over threshold', lw=2)\n",
    " \n",
    "plt.xlim([-0.05, 1.05])\n",
    "plt.ylim([-0.05, 7000])\n",
    "plt.xlabel('Threshold')\n",
    "plt.ylabel('Validation result')\n",
    "plt.title('Reward curve')\n",
    "plt.legend(loc=\"lower right\")\n",
    "plt.show()"
   ]
  },
  {
   "cell_type": "code",
   "execution_count": 98,
   "id": "b678bb28",
   "metadata": {},
   "outputs": [
    {
     "name": "stdout",
     "output_type": "stream",
     "text": [
      "best_threshold = 0.1337425857782364\n"
     ]
    }
   ],
   "source": [
    "i_best_threshold = reward_buffer.index(max(reward_buffer))\n",
    "best_threshold  = thresholds[i_best_threshold]\n",
    "print(\"best_threshold = {}\".format(best_threshold))"
   ]
  },
  {
   "cell_type": "code",
   "execution_count": 99,
   "id": "c8064151",
   "metadata": {},
   "outputs": [
    {
     "name": "stdout",
     "output_type": "stream",
     "text": [
      "reward = 16660\n",
      "naive reward = 5320\n"
     ]
    }
   ],
   "source": [
    "reward = getReward(clf,best_threshold,X_test,y_test)\n",
    "print(\"reward = {}\".format(reward))\n",
    "reward_naive = getReward(clf,0,X_test,y_test)\n",
    "print(\"naive reward = {}\".format(reward_naive))"
   ]
  },
  {
   "cell_type": "code",
   "execution_count": null,
   "id": "d72c3c89",
   "metadata": {},
   "outputs": [],
   "source": [
    "\n",
    "\n",
    "\n",
    "\n",
    "\n",
    "\n",
    "\n",
    "\n",
    "\n",
    "\n",
    "\n",
    "\n",
    "\n",
    "\n",
    "\n",
    "\n",
    "\n",
    "\n",
    "\n",
    "\n",
    "\n",
    "\n",
    "\n",
    "\n",
    "\n",
    "\n",
    "\n",
    "\n",
    "\n",
    "\n",
    "\n",
    "\n",
    "\n"
   ]
  }
 ],
 "metadata": {
  "kernelspec": {
   "display_name": "Python 3",
   "language": "python",
   "name": "python3"
  },
  "language_info": {
   "codemirror_mode": {
    "name": "ipython",
    "version": 3
   },
   "file_extension": ".py",
   "mimetype": "text/x-python",
   "name": "python",
   "nbconvert_exporter": "python",
   "pygments_lexer": "ipython3",
   "version": "3.7.10"
  }
 },
 "nbformat": 4,
 "nbformat_minor": 5
}
